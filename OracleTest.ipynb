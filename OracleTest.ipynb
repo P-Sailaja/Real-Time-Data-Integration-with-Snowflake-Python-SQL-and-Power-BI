{
 "cells": [
  {
   "cell_type": "code",
   "execution_count": 2,
   "id": "97aa1ec7-42a7-4890-aed7-9c440045b223",
   "metadata": {},
   "outputs": [],
   "source": [
    "import mysql.connector"
   ]
  },
  {
   "cell_type": "code",
   "execution_count": 3,
   "id": "e4b115de-a317-4190-a75e-8dd3eb1eba5e",
   "metadata": {},
   "outputs": [],
   "source": [
    "import pandas as pd"
   ]
  },
  {
   "cell_type": "code",
   "execution_count": 4,
   "id": "dc46d67b-8efb-46a3-8170-6a479f8cbe26",
   "metadata": {},
   "outputs": [],
   "source": [
    "cnx = mysql.connector.connect(\n",
    "    host = \"127.0.0.1\",\n",
    "    port = \"3306\",\n",
    "    user = \"root\",\n",
    "    password = \"umaDevi@20\",\n",
    "    database = \"dwbi\")"
   ]
  },
  {
   "cell_type": "code",
   "execution_count": 5,
   "id": "7c7121d3-034d-4855-b8df-a37b44aac4cc",
   "metadata": {},
   "outputs": [],
   "source": [
    "query = \"Select * from dimloyaltyprogram\""
   ]
  },
  {
   "cell_type": "code",
   "execution_count": 6,
   "id": "5954d4bb-061a-455e-9fcc-76277bc65ea0",
   "metadata": {},
   "outputs": [
    {
     "name": "stderr",
     "output_type": "stream",
     "text": [
      "C:\\Users\\hp\\AppData\\Local\\Temp\\ipykernel_7732\\1600954950.py:1: UserWarning: pandas only supports SQLAlchemy connectable (engine/connection) or database string URI or sqlite3 DBAPI2 connection. Other DBAPI2 objects are not tested. Please consider using SQLAlchemy.\n",
      "  df = pd.read_sql(query, cnx)\n"
     ]
    }
   ],
   "source": [
    "df = pd.read_sql(query, cnx)"
   ]
  },
  {
   "cell_type": "code",
   "execution_count": 7,
   "id": "663ac054-e66b-4cd1-952a-e82307450278",
   "metadata": {},
   "outputs": [
    {
     "data": {
      "text/html": [
       "<div>\n",
       "<style scoped>\n",
       "    .dataframe tbody tr th:only-of-type {\n",
       "        vertical-align: middle;\n",
       "    }\n",
       "\n",
       "    .dataframe tbody tr th {\n",
       "        vertical-align: top;\n",
       "    }\n",
       "\n",
       "    .dataframe thead th {\n",
       "        text-align: right;\n",
       "    }\n",
       "</style>\n",
       "<table border=\"1\" class=\"dataframe\">\n",
       "  <thead>\n",
       "    <tr style=\"text-align: right;\">\n",
       "      <th></th>\n",
       "      <th>LOYALTYPROGRAMID</th>\n",
       "      <th>PROGRAMNAME</th>\n",
       "      <th>PROGRAMTIER</th>\n",
       "      <th>POINTSACCURED</th>\n",
       "    </tr>\n",
       "  </thead>\n",
       "  <tbody>\n",
       "    <tr>\n",
       "      <th>0</th>\n",
       "      <td>1</td>\n",
       "      <td>Gold Rewards</td>\n",
       "      <td>Gold</td>\n",
       "      <td>1500</td>\n",
       "    </tr>\n",
       "    <tr>\n",
       "      <th>1</th>\n",
       "      <td>2</td>\n",
       "      <td>Platinum Perks</td>\n",
       "      <td>Platinum</td>\n",
       "      <td>2500</td>\n",
       "    </tr>\n",
       "    <tr>\n",
       "      <th>2</th>\n",
       "      <td>3</td>\n",
       "      <td>Silver Savers</td>\n",
       "      <td>Silver</td>\n",
       "      <td>800</td>\n",
       "    </tr>\n",
       "    <tr>\n",
       "      <th>3</th>\n",
       "      <td>4</td>\n",
       "      <td>Bronze Benefits</td>\n",
       "      <td>Bronze</td>\n",
       "      <td>400</td>\n",
       "    </tr>\n",
       "    <tr>\n",
       "      <th>4</th>\n",
       "      <td>5</td>\n",
       "      <td>Exclusive Elite</td>\n",
       "      <td>Exclusive</td>\n",
       "      <td>3000</td>\n",
       "    </tr>\n",
       "  </tbody>\n",
       "</table>\n",
       "</div>"
      ],
      "text/plain": [
       "   LOYALTYPROGRAMID      PROGRAMNAME PROGRAMTIER  POINTSACCURED\n",
       "0                 1     Gold Rewards        Gold           1500\n",
       "1                 2   Platinum Perks    Platinum           2500\n",
       "2                 3    Silver Savers      Silver            800\n",
       "3                 4  Bronze Benefits      Bronze            400\n",
       "4                 5  Exclusive Elite   Exclusive           3000"
      ]
     },
     "execution_count": 7,
     "metadata": {},
     "output_type": "execute_result"
    }
   ],
   "source": [
    "df.head()"
   ]
  },
  {
   "cell_type": "code",
   "execution_count": 8,
   "id": "eb7159fc-a49c-4365-86a5-92ef70f9fe07",
   "metadata": {},
   "outputs": [],
   "source": [
    "df.to_csv('DimLoyaltyInfo.csv', index = False)"
   ]
  },
  {
   "cell_type": "code",
   "execution_count": null,
   "id": "cbcf2ef8-ad82-4532-9cad-ababdfe850d9",
   "metadata": {},
   "outputs": [],
   "source": []
  }
 ],
 "metadata": {
  "kernelspec": {
   "display_name": "Python 3 (ipykernel)",
   "language": "python",
   "name": "python3"
  },
  "language_info": {
   "codemirror_mode": {
    "name": "ipython",
    "version": 3
   },
   "file_extension": ".py",
   "mimetype": "text/x-python",
   "name": "python",
   "nbconvert_exporter": "python",
   "pygments_lexer": "ipython3",
   "version": "3.12.7"
  }
 },
 "nbformat": 4,
 "nbformat_minor": 5
}
